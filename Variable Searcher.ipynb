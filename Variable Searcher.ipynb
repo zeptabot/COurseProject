{
 "cells": [
  {
   "cell_type": "code",
   "execution_count": 2,
   "id": "25c7235f",
   "metadata": {},
   "outputs": [
    {
     "name": "stderr",
     "output_type": "stream",
     "text": [
      "/var/folders/13/smnfwmjj2pq4j06bbtprpdp00000gn/T/ipykernel_5555/4114330600.py:3: DtypeWarning: Columns (129,408,630,671,689,978,1001,1002,1006,1007,1008,1080,1113,1115,1116,1117,1118,1119,1120,1121,1124,1125,1126,1127,1128,1213,1214,1215,1216,1217,1218,1263,1266,1342,1343,1344,1345,1346,1347,1348,1349,1390,1391,1393,1439,1442,1463,1546,1549,1552,1555,1558,1561) have mixed types. Specify dtype option on import or set low_memory=False.\n",
      "  data = pd.read_csv(\"https://raw.githubusercontent.com/pointOfive/stat130chat130/main/CP/CSCS_data_anon.csv\",\n"
     ]
    },
    {
     "data": {
      "text/plain": [
       "(11431, 1779)"
      ]
     },
     "execution_count": 2,
     "metadata": {},
     "output_type": "execute_result"
    }
   ],
   "source": [
    "import pandas as pd\n",
    "cols = pd.read_csv(\"https://raw.githubusercontent.com/pointOfive/stat130chat130/main/CP/var_names.csv\")\n",
    "data = pd.read_csv(\"https://raw.githubusercontent.com/pointOfive/stat130chat130/main/CP/CSCS_data_anon.csv\",\n",
    "                   na_values=[\"9999\", \"\", \" \", \"Presented but no response\", \"NA\"])\n",
    "empty = (data.isna().sum()==data.shape[0])\n",
    "data = data[empty.index[~empty]] # keep non empty columns only\n",
    "\n",
    "data.shape"
   ]
  },
  {
   "cell_type": "code",
   "execution_count": 3,
   "id": "e7fc0c4e",
   "metadata": {},
   "outputs": [
    {
     "data": {
      "text/plain": [
       "0        2022 Cross-Sectional\n",
       "1        2022 Cross-Sectional\n",
       "2        2022 Cross-Sectional\n",
       "3        2023 Cross-Sectional\n",
       "4        2021 Cross-Sectional\n",
       "                 ...         \n",
       "11426    2023 Cross-Sectional\n",
       "11427    2022 Cross-Sectional\n",
       "11428             2022 Cohort\n",
       "11429             2023 Cohort\n",
       "11430    2021 Cross-Sectional\n",
       "Name: DATASET, Length: 11431, dtype: object"
      ]
     },
     "execution_count": 3,
     "metadata": {},
     "output_type": "execute_result"
    }
   ],
   "source": [
    "data['DATASET']"
   ]
  },
  {
   "cell_type": "code",
   "execution_count": 4,
   "id": "60ce189d",
   "metadata": {},
   "outputs": [
    {
     "data": {
      "text/plain": [
       "['LONELY_chronic_lonely_others',\n",
       " 'LONELY_ucla_loneliness_scale_score',\n",
       " 'LONELY_dejong_emotional_social_loneliness_scale_score',\n",
       " 'LONELY_dejong_emotional_loneliness_sub_scale_score',\n",
       " 'LONELY_dejong_social_loneliness_sub_scale_score',\n",
       " 'LONELY_existential_loneliness_scale_score']"
      ]
     },
     "execution_count": 4,
     "metadata": {},
     "output_type": "execute_result"
    }
   ],
   "source": [
    "def find_columns_by_keyword_and_dtype(keywords, dtypes, dataset_value):\n",
    "    # Filter data for rows where DATASET equals the specified value\n",
    "    dataset_filtered_data = data[data['DATASET'] == dataset_value]\n",
    "    \n",
    "    # Filter columns based on the specified data types within the filtered data\n",
    "    filtered_by_dtype = dataset_filtered_data.select_dtypes(include=dtypes)\n",
    "    \n",
    "    # Filter further based on keywords in column names\n",
    "    filtered_columns = [col for col in filtered_by_dtype.columns if any(keyword in col for keyword in keywords)]\n",
    "    \n",
    "    return filtered_columns\n",
    "\n",
    "# Example usage\n",
    "keywords = ['lone']  # Replace with your desired keywords\n",
    "dtypes = ['float64']  # Replace with your desired data types (e.g., ['object'] for strings)\n",
    "dataset_value = '2023 Cross-Sectional'  # Specify the desired dataset value\n",
    "\n",
    "matching_columns = find_columns_by_keyword_and_dtype(keywords, dtypes, dataset_value)\n",
    "matching_columns"
   ]
  },
  {
   "cell_type": "code",
   "execution_count": 5,
   "id": "af7b2618",
   "metadata": {},
   "outputs": [
    {
     "data": {
      "text/plain": [
       "['NUTRITION_canadian_food_intake_screener_frequency_social_meals',\n",
       " 'NUTRITION_three_factor_eating_questionnaire_binge_eating_when_not_hungry',\n",
       " 'LONELY_dejong_emotional_social_loneliness_scale_score',\n",
       " 'LONELY_dejong_emotional_social_loneliness_scale_score_y_n']"
      ]
     },
     "execution_count": 5,
     "metadata": {},
     "output_type": "execute_result"
    }
   ],
   "source": [
    "def find_columns_by_keyword_and_dtype(keywords,dataset_value):\n",
    "    # Filter data for rows where DATASET equals the specified value\n",
    "    dataset_filtered_data = data[data['DATASET'] == dataset_value]\n",
    "    \n",
    "    \n",
    "    # Filter further based on keywords in column names\n",
    "    filtered_columns = [col for col in dataset_filtered_data.columns if any(keyword in col for keyword in keywords)]\n",
    "    \n",
    "    return filtered_columns\n",
    "\n",
    "# Example usage\n",
    "keywords = ['social_meals','binge_eating_when_not_hungry','LONELY_dejong_emotional_social_loneliness_scale_score',]  # Replace with your desired keywords\n",
    "dataset_value = '2023 Cross-Sectional'  # Specify the desired dataset value\n",
    "\n",
    "matching_columns = find_columns_by_keyword_and_dtype(keywords, dataset_value)\n",
    "matching_columns"
   ]
  },
  {
   "cell_type": "code",
   "execution_count": 6,
   "id": "4c5a288d",
   "metadata": {},
   "outputs": [
    {
     "name": "stdout",
     "output_type": "stream",
     "text": [
      "                                                             new_var  \\\n",
      "2152  NUTRITION_canadian_food_intake_screener_frequency_social_meals   \n",
      "\n",
      "                                                                                                                                                                                          text  \\\n",
      "2152  Over the past month, how often did you eat a meal with other people (such as in a social setting, including a lunch with coworkers, dinner with family, brunch with friends, and so on)?   \n",
      "\n",
      "         dataset  \n",
      "2152  2023_cross  \n",
      "None\n",
      "                                                                       new_var  \\\n",
      "2177  NUTRITION_three_factor_eating_questionnaire_binge_eating_when_not_hungry   \n",
      "\n",
      "                                                       text     dataset  \n",
      "2177  Do you go on eating binges though you are not hungry?  2023_cross  \n",
      "None\n",
      "Variable not found.\n",
      "None\n"
     ]
    }
   ],
   "source": [
    "pd.set_option('display.max_colwidth', None)\n",
    "\n",
    "# Function to filter by new_var and display text and dataset columns\n",
    "def get_var_details(var_name):\n",
    "    # Filter the DataFrame for the specified new_var\n",
    "    filtered_data = cols[cols['new_var'] == var_name]\n",
    "    \n",
    "    # Check if the variable exists in the dataset\n",
    "    if not filtered_data.empty:\n",
    "        # Select only the new_var, text, and dataset columns\n",
    "        result = filtered_data[['new_var', 'text', 'dataset']]\n",
    "        print(result)\n",
    "    else:\n",
    "        print(\"Variable not found.\")\n",
    "\n",
    "# Example usage\n",
    "print(get_var_details('NUTRITION_canadian_food_intake_screener_frequency_social_meals'))  #\n",
    "print(get_var_details('NUTRITION_three_factor_eating_questionnaire_binge_eating_when_not_hungry'))  \n",
    "print(get_var_details('LONELY_ucla_loneliness_scale_score')) "
   ]
  },
  {
   "cell_type": "code",
   "execution_count": 7,
   "id": "8fce6e53",
   "metadata": {},
   "outputs": [
    {
     "name": "stdout",
     "output_type": "stream",
     "text": [
      "                    DATASET\n",
      "35     2023 Cross-Sectional\n",
      "92     2023 Cross-Sectional\n",
      "101    2023 Cross-Sectional\n",
      "131    2023 Cross-Sectional\n",
      "217    2023 Cross-Sectional\n",
      "...                     ...\n",
      "11279  2023 Cross-Sectional\n",
      "11286  2023 Cross-Sectional\n",
      "11304  2023 Cross-Sectional\n",
      "11388  2023 Cross-Sectional\n",
      "11426  2023 Cross-Sectional\n",
      "\n",
      "[296 rows x 1 columns]\n"
     ]
    }
   ],
   "source": [
    "columns_of_interest = [\n",
    "    'DATASET'\n",
    "]\n",
    "\n",
    "# Filter the data for rows with non-missing values in the specified columns\n",
    "filtered_data = data.dropna(subset=[\n",
    "    'NUTRITION_three_factor_eating_questionnaire_binge_eating_when_not_hungry',\n",
    "    'NUTRITION_canadian_food_intake_screener_frequency_social_meals',\n",
    "    'LONELY_dejong_emotional_social_loneliness_scale_score'\n",
    "])\n",
    "\n",
    "# Select and print only the columns of interest\n",
    "result = filtered_data[columns_of_interest]\n",
    "print(result)"
   ]
  },
  {
   "cell_type": "code",
   "execution_count": 8,
   "id": "5df25c32",
   "metadata": {},
   "outputs": [
    {
     "data": {
      "text/plain": [
       "ORIGINAL_reactions_to_loneliness_felt_disconnected\n",
       "Not at all           140\n",
       "A little              79\n",
       "Somewhat              60\n",
       "Quite a bit           45\n",
       "To a great extent     22\n",
       "Name: count, dtype: int64"
      ]
     },
     "execution_count": 8,
     "metadata": {},
     "output_type": "execute_result"
    }
   ],
   "source": [
    "data.ORIGINAL_reactions_to_loneliness_felt_disconnected.value_counts()"
   ]
  },
  {
   "cell_type": "code",
   "execution_count": 9,
   "id": "173bee67",
   "metadata": {},
   "outputs": [
    {
     "data": {
      "text/plain": [
       "NUTRITION_canadian_food_intake_screener_frequency_social_meals\n",
       "2 to 3 times last month    61\n",
       "1 time per day             39\n",
       "1 time last month          38\n",
       "2 times per week           34\n",
       "1 time per week            31\n",
       "Never                      31\n",
       "2 to 3 times per day       30\n",
       "3 to 4 times per week      29\n",
       "5 to 6 times per week      18\n",
       "Name: count, dtype: int64"
      ]
     },
     "execution_count": 9,
     "metadata": {},
     "output_type": "execute_result"
    }
   ],
   "source": [
    "data.NUTRITION_canadian_food_intake_screener_frequency_social_meals.value_counts()"
   ]
  },
  {
   "cell_type": "code",
   "execution_count": 10,
   "id": "a362ef19",
   "metadata": {},
   "outputs": [
    {
     "data": {
      "text/plain": [
       "NUTRITION_three_factor_eating_questionnaire_binge_eating_when_not_hungry\n",
       "Rarely                  102\n",
       "Never                    97\n",
       "Sometimes                90\n",
       "At least once a week     14\n",
       "Name: count, dtype: int64"
      ]
     },
     "execution_count": 10,
     "metadata": {},
     "output_type": "execute_result"
    }
   ],
   "source": [
    "data.NUTRITION_three_factor_eating_questionnaire_binge_eating_when_not_hungry.value_counts()"
   ]
  },
  {
   "cell_type": "code",
   "execution_count": 11,
   "id": "f17cd613",
   "metadata": {},
   "outputs": [
    {
     "data": {
      "text/plain": [
       "LONELY_dejong_emotional_social_loneliness_scale_score\n",
       "6.0    1890\n",
       "5.0    1723\n",
       "4.0    1414\n",
       "3.0    1329\n",
       "2.0     971\n",
       "1.0     763\n",
       "0.0     471\n",
       "Name: count, dtype: int64"
      ]
     },
     "execution_count": 11,
     "metadata": {},
     "output_type": "execute_result"
    }
   ],
   "source": [
    "data.LONELY_dejong_emotional_social_loneliness_scale_score.value_counts()"
   ]
  },
  {
   "cell_type": "code",
   "execution_count": 12,
   "id": "e2f0225f",
   "metadata": {},
   "outputs": [
    {
     "data": {
      "text/plain": [
       "CONNECTION_social_media_time_per_day\n",
       "31-60 minutes per day           1924\n",
       "1-2 hours per day               1758\n",
       "10-30 minutes per day           1492\n",
       "More than 3 hours per day       1367\n",
       "2-3 hours per day               1259\n",
       "Less than 10 minutes per day     477\n",
       "Name: count, dtype: int64"
      ]
     },
     "execution_count": 12,
     "metadata": {},
     "output_type": "execute_result"
    }
   ],
   "source": [
    "data.CONNECTION_social_media_time_per_day.value_counts()"
   ]
  },
  {
   "cell_type": "code",
   "execution_count": 13,
   "id": "79a93b2d",
   "metadata": {},
   "outputs": [
    {
     "data": {
      "text/plain": [
       "PSYCH_body_self_image_questionnaire_think_unattractive\n",
       "About halfway true of myself    193\n",
       "Slightly true of myself         184\n",
       "Not at all true of myself       171\n",
       "Mostly true of myself           149\n",
       "Completely true of myself        91\n",
       "Name: count, dtype: int64"
      ]
     },
     "execution_count": 13,
     "metadata": {},
     "output_type": "execute_result"
    }
   ],
   "source": [
    "data.PSYCH_body_self_image_questionnaire_think_unattractive.value_counts()"
   ]
  },
  {
   "cell_type": "code",
   "execution_count": 15,
   "id": "fa7b0706",
   "metadata": {},
   "outputs": [
    {
     "data": {
      "text/plain": [
       "PSYCH_big_five_inventory_open_score\n",
       "40.0    131\n",
       "41.0    126\n",
       "46.0    124\n",
       "45.0    123\n",
       "38.0    122\n",
       "44.0    122\n",
       "42.0    121\n",
       "39.0    120\n",
       "43.0    112\n",
       "47.0    108\n",
       "37.0     99\n",
       "35.0     94\n",
       "49.0     93\n",
       "34.0     91\n",
       "36.0     86\n",
       "33.0     82\n",
       "48.0     79\n",
       "30.0     66\n",
       "50.0     59\n",
       "32.0     56\n",
       "31.0     47\n",
       "29.0     44\n",
       "28.0     38\n",
       "27.0     35\n",
       "26.0     19\n",
       "25.0     16\n",
       "24.0     12\n",
       "22.0      7\n",
       "21.0      7\n",
       "23.0      5\n",
       "20.0      4\n",
       "19.0      3\n",
       "10.0      2\n",
       "14.0      2\n",
       "15.0      1\n",
       "16.0      1\n",
       "13.0      1\n",
       "18.0      1\n",
       "Name: count, dtype: int64"
      ]
     },
     "execution_count": 15,
     "metadata": {},
     "output_type": "execute_result"
    }
   ],
   "source": [
    "data.PSYCH_big_five_inventory_open_score.value_counts()"
   ]
  },
  {
   "cell_type": "code",
   "execution_count": 22,
   "id": "3e06abc2",
   "metadata": {},
   "outputs": [
    {
     "data": {
      "text/plain": [
       "NUTRITION_cooking_and_food_provisioning_action_scale_attitude_score\n",
       "4.0    16\n",
       "5.0    14\n",
       "4.1    12\n",
       "3.5    12\n",
       "4.3    10\n",
       "5.2     9\n",
       "6.2     9\n",
       "5.1     9\n",
       "5.7     9\n",
       "4.8     9\n",
       "5.6     8\n",
       "4.4     8\n",
       "3.9     8\n",
       "4.6     8\n",
       "3.4     7\n",
       "3.0     7\n",
       "3.8     7\n",
       "4.5     6\n",
       "5.5     6\n",
       "3.7     6\n",
       "4.2     6\n",
       "3.6     6\n",
       "4.9     6\n",
       "3.3     5\n",
       "3.2     5\n",
       "2.7     5\n",
       "3.1     5\n",
       "5.8     5\n",
       "5.4     5\n",
       "5.3     5\n",
       "6.4     4\n",
       "6.7     4\n",
       "2.3     4\n",
       "5.9     4\n",
       "2.9     4\n",
       "2.6     4\n",
       "4.7     4\n",
       "2.4     3\n",
       "2.2     3\n",
       "2.1     3\n",
       "6.3     3\n",
       "6.6     3\n",
       "7.0     3\n",
       "6.1     3\n",
       "6.5     2\n",
       "1.9     2\n",
       "2.5     2\n",
       "2.0     2\n",
       "6.0     2\n",
       "2.8     2\n",
       "6.8     2\n",
       "1.7     1\n",
       "1.8     1\n",
       "1.6     1\n",
       "1.3     1\n",
       "1.5     1\n",
       "Name: count, dtype: int64"
      ]
     },
     "execution_count": 22,
     "metadata": {},
     "output_type": "execute_result"
    }
   ],
   "source": [
    "data.NUTRITION_cooking_and_food_provisioning_action_scale_attitude_score.value_counts()"
   ]
  },
  {
   "cell_type": "code",
   "execution_count": null,
   "id": "b9c685d6",
   "metadata": {},
   "outputs": [],
   "source": []
  },
  {
   "cell_type": "code",
   "execution_count": null,
   "id": "1e0e1c48",
   "metadata": {},
   "outputs": [],
   "source": []
  },
  {
   "cell_type": "code",
   "execution_count": null,
   "id": "80b3a256",
   "metadata": {},
   "outputs": [],
   "source": []
  }
 ],
 "metadata": {
  "kernelspec": {
   "display_name": "base",
   "language": "python",
   "name": "python3"
  },
  "language_info": {
   "codemirror_mode": {
    "name": "ipython",
    "version": 3
   },
   "file_extension": ".py",
   "mimetype": "text/x-python",
   "name": "python",
   "nbconvert_exporter": "python",
   "pygments_lexer": "ipython3",
   "version": "3.12.4"
  }
 },
 "nbformat": 4,
 "nbformat_minor": 5
}
